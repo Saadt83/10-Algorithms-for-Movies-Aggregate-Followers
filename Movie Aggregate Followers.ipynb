{
 "cells": [
  {
   "cell_type": "code",
   "execution_count": 1,
   "metadata": {},
   "outputs": [],
   "source": [
    "import numpy as np\n",
    "import pandas as pd\n",
    "import matplotlib as mlp"
   ]
  },
  {
   "cell_type": "code",
   "execution_count": 2,
   "metadata": {},
   "outputs": [
    {
     "data": {
      "text/html": [
       "<div>\n",
       "<style scoped>\n",
       "    .dataframe tbody tr th:only-of-type {\n",
       "        vertical-align: middle;\n",
       "    }\n",
       "\n",
       "    .dataframe tbody tr th {\n",
       "        vertical-align: top;\n",
       "    }\n",
       "\n",
       "    .dataframe thead th {\n",
       "        text-align: right;\n",
       "    }\n",
       "</style>\n",
       "<table border=\"1\" class=\"dataframe\">\n",
       "  <thead>\n",
       "    <tr style=\"text-align: right;\">\n",
       "      <th></th>\n",
       "      <th>Movie</th>\n",
       "      <th>Year</th>\n",
       "      <th>Ratings</th>\n",
       "      <th>Genre</th>\n",
       "      <th>Gross</th>\n",
       "      <th>Budget</th>\n",
       "      <th>Screens</th>\n",
       "      <th>Sequel</th>\n",
       "      <th>Sentiment</th>\n",
       "      <th>Views</th>\n",
       "      <th>Likes</th>\n",
       "      <th>Dislikes</th>\n",
       "      <th>Comments</th>\n",
       "      <th>Aggregate Followers</th>\n",
       "    </tr>\n",
       "  </thead>\n",
       "  <tbody>\n",
       "    <tr>\n",
       "      <th>0</th>\n",
       "      <td>13 Sins</td>\n",
       "      <td>2014</td>\n",
       "      <td>6.3</td>\n",
       "      <td>8</td>\n",
       "      <td>9130</td>\n",
       "      <td>4000000.0</td>\n",
       "      <td>45.0</td>\n",
       "      <td>1</td>\n",
       "      <td>0</td>\n",
       "      <td>3280543</td>\n",
       "      <td>4632</td>\n",
       "      <td>425</td>\n",
       "      <td>636</td>\n",
       "      <td>1120000.0</td>\n",
       "    </tr>\n",
       "    <tr>\n",
       "      <th>1</th>\n",
       "      <td>22 Jump Street</td>\n",
       "      <td>2014</td>\n",
       "      <td>7.1</td>\n",
       "      <td>1</td>\n",
       "      <td>192000000</td>\n",
       "      <td>50000000.0</td>\n",
       "      <td>3306.0</td>\n",
       "      <td>2</td>\n",
       "      <td>2</td>\n",
       "      <td>583289</td>\n",
       "      <td>3465</td>\n",
       "      <td>61</td>\n",
       "      <td>186</td>\n",
       "      <td>12350000.0</td>\n",
       "    </tr>\n",
       "    <tr>\n",
       "      <th>2</th>\n",
       "      <td>3 Days to Kill</td>\n",
       "      <td>2014</td>\n",
       "      <td>6.2</td>\n",
       "      <td>1</td>\n",
       "      <td>30700000</td>\n",
       "      <td>28000000.0</td>\n",
       "      <td>2872.0</td>\n",
       "      <td>1</td>\n",
       "      <td>0</td>\n",
       "      <td>304861</td>\n",
       "      <td>328</td>\n",
       "      <td>34</td>\n",
       "      <td>47</td>\n",
       "      <td>483000.0</td>\n",
       "    </tr>\n",
       "    <tr>\n",
       "      <th>3</th>\n",
       "      <td>300: Rise of an Empire</td>\n",
       "      <td>2014</td>\n",
       "      <td>6.3</td>\n",
       "      <td>1</td>\n",
       "      <td>106000000</td>\n",
       "      <td>110000000.0</td>\n",
       "      <td>3470.0</td>\n",
       "      <td>2</td>\n",
       "      <td>0</td>\n",
       "      <td>452917</td>\n",
       "      <td>2429</td>\n",
       "      <td>132</td>\n",
       "      <td>590</td>\n",
       "      <td>568000.0</td>\n",
       "    </tr>\n",
       "    <tr>\n",
       "      <th>4</th>\n",
       "      <td>A Haunted House 2</td>\n",
       "      <td>2014</td>\n",
       "      <td>4.7</td>\n",
       "      <td>8</td>\n",
       "      <td>17300000</td>\n",
       "      <td>3500000.0</td>\n",
       "      <td>2310.0</td>\n",
       "      <td>2</td>\n",
       "      <td>0</td>\n",
       "      <td>3145573</td>\n",
       "      <td>12163</td>\n",
       "      <td>610</td>\n",
       "      <td>1082</td>\n",
       "      <td>1923800.0</td>\n",
       "    </tr>\n",
       "  </tbody>\n",
       "</table>\n",
       "</div>"
      ],
      "text/plain": [
       "                    Movie  Year  Ratings  Genre      Gross       Budget  \\\n",
       "0                 13 Sins  2014      6.3      8       9130    4000000.0   \n",
       "1          22 Jump Street  2014      7.1      1  192000000   50000000.0   \n",
       "2          3 Days to Kill  2014      6.2      1   30700000   28000000.0   \n",
       "3  300: Rise of an Empire  2014      6.3      1  106000000  110000000.0   \n",
       "4       A Haunted House 2  2014      4.7      8   17300000    3500000.0   \n",
       "\n",
       "   Screens  Sequel  Sentiment    Views  Likes  Dislikes  Comments  \\\n",
       "0     45.0       1          0  3280543   4632       425       636   \n",
       "1   3306.0       2          2   583289   3465        61       186   \n",
       "2   2872.0       1          0   304861    328        34        47   \n",
       "3   3470.0       2          0   452917   2429       132       590   \n",
       "4   2310.0       2          0  3145573  12163       610      1082   \n",
       "\n",
       "   Aggregate Followers  \n",
       "0            1120000.0  \n",
       "1           12350000.0  \n",
       "2             483000.0  \n",
       "3             568000.0  \n",
       "4            1923800.0  "
      ]
     },
     "execution_count": 2,
     "metadata": {},
     "output_type": "execute_result"
    }
   ],
   "source": [
    "df=pd.read_csv(\"CSM_dataset1.csv\")\n",
    "df.head()"
   ]
  },
  {
   "cell_type": "code",
   "execution_count": 3,
   "metadata": {},
   "outputs": [
    {
     "data": {
      "text/html": [
       "<div>\n",
       "<style scoped>\n",
       "    .dataframe tbody tr th:only-of-type {\n",
       "        vertical-align: middle;\n",
       "    }\n",
       "\n",
       "    .dataframe tbody tr th {\n",
       "        vertical-align: top;\n",
       "    }\n",
       "\n",
       "    .dataframe thead th {\n",
       "        text-align: right;\n",
       "    }\n",
       "</style>\n",
       "<table border=\"1\" class=\"dataframe\">\n",
       "  <thead>\n",
       "    <tr style=\"text-align: right;\">\n",
       "      <th></th>\n",
       "      <th>Year</th>\n",
       "      <th>Ratings</th>\n",
       "      <th>Genre</th>\n",
       "      <th>Gross</th>\n",
       "      <th>Budget</th>\n",
       "      <th>Screens</th>\n",
       "      <th>Sequel</th>\n",
       "      <th>Sentiment</th>\n",
       "      <th>Views</th>\n",
       "      <th>Likes</th>\n",
       "      <th>Dislikes</th>\n",
       "      <th>Comments</th>\n",
       "      <th>Aggregate Followers</th>\n",
       "    </tr>\n",
       "  </thead>\n",
       "  <tbody>\n",
       "    <tr>\n",
       "      <th>count</th>\n",
       "      <td>231.000000</td>\n",
       "      <td>231.000000</td>\n",
       "      <td>231.000000</td>\n",
       "      <td>2.310000e+02</td>\n",
       "      <td>2.310000e+02</td>\n",
       "      <td>229.000000</td>\n",
       "      <td>231.000000</td>\n",
       "      <td>231.000000</td>\n",
       "      <td>2.310000e+02</td>\n",
       "      <td>231.000000</td>\n",
       "      <td>231.000000</td>\n",
       "      <td>231.000000</td>\n",
       "      <td>1.960000e+02</td>\n",
       "    </tr>\n",
       "    <tr>\n",
       "      <th>mean</th>\n",
       "      <td>2014.294372</td>\n",
       "      <td>6.441558</td>\n",
       "      <td>5.359307</td>\n",
       "      <td>6.806603e+07</td>\n",
       "      <td>4.771861e+07</td>\n",
       "      <td>2262.152838</td>\n",
       "      <td>1.359307</td>\n",
       "      <td>2.809524</td>\n",
       "      <td>3.712851e+06</td>\n",
       "      <td>12732.536797</td>\n",
       "      <td>679.051948</td>\n",
       "      <td>1825.701299</td>\n",
       "      <td>3.038193e+06</td>\n",
       "    </tr>\n",
       "    <tr>\n",
       "      <th>std</th>\n",
       "      <td>0.456750</td>\n",
       "      <td>0.988765</td>\n",
       "      <td>4.141611</td>\n",
       "      <td>8.890289e+07</td>\n",
       "      <td>5.425800e+07</td>\n",
       "      <td>1686.182967</td>\n",
       "      <td>0.967241</td>\n",
       "      <td>6.996775</td>\n",
       "      <td>4.511104e+06</td>\n",
       "      <td>28825.484481</td>\n",
       "      <td>1243.929481</td>\n",
       "      <td>3571.040447</td>\n",
       "      <td>4.886278e+06</td>\n",
       "    </tr>\n",
       "    <tr>\n",
       "      <th>min</th>\n",
       "      <td>2014.000000</td>\n",
       "      <td>3.100000</td>\n",
       "      <td>1.000000</td>\n",
       "      <td>2.470000e+03</td>\n",
       "      <td>7.000000e+04</td>\n",
       "      <td>2.000000</td>\n",
       "      <td>1.000000</td>\n",
       "      <td>-38.000000</td>\n",
       "      <td>6.980000e+02</td>\n",
       "      <td>1.000000</td>\n",
       "      <td>0.000000</td>\n",
       "      <td>0.000000</td>\n",
       "      <td>1.066000e+03</td>\n",
       "    </tr>\n",
       "    <tr>\n",
       "      <th>25%</th>\n",
       "      <td>2014.000000</td>\n",
       "      <td>5.800000</td>\n",
       "      <td>1.000000</td>\n",
       "      <td>1.030000e+07</td>\n",
       "      <td>8.966390e+06</td>\n",
       "      <td>482.000000</td>\n",
       "      <td>1.000000</td>\n",
       "      <td>0.000000</td>\n",
       "      <td>6.233020e+05</td>\n",
       "      <td>1776.500000</td>\n",
       "      <td>105.500000</td>\n",
       "      <td>248.500000</td>\n",
       "      <td>1.830250e+05</td>\n",
       "    </tr>\n",
       "    <tr>\n",
       "      <th>50%</th>\n",
       "      <td>2014.000000</td>\n",
       "      <td>6.500000</td>\n",
       "      <td>3.000000</td>\n",
       "      <td>3.740000e+07</td>\n",
       "      <td>2.800000e+07</td>\n",
       "      <td>2776.000000</td>\n",
       "      <td>1.000000</td>\n",
       "      <td>0.000000</td>\n",
       "      <td>2.409338e+06</td>\n",
       "      <td>6096.000000</td>\n",
       "      <td>341.000000</td>\n",
       "      <td>837.000000</td>\n",
       "      <td>1.052600e+06</td>\n",
       "    </tr>\n",
       "    <tr>\n",
       "      <th>75%</th>\n",
       "      <td>2015.000000</td>\n",
       "      <td>7.100000</td>\n",
       "      <td>8.000000</td>\n",
       "      <td>8.935000e+07</td>\n",
       "      <td>6.500000e+07</td>\n",
       "      <td>3372.000000</td>\n",
       "      <td>1.000000</td>\n",
       "      <td>5.500000</td>\n",
       "      <td>5.217380e+06</td>\n",
       "      <td>15247.500000</td>\n",
       "      <td>697.500000</td>\n",
       "      <td>2137.000000</td>\n",
       "      <td>3.694500e+06</td>\n",
       "    </tr>\n",
       "    <tr>\n",
       "      <th>max</th>\n",
       "      <td>2015.000000</td>\n",
       "      <td>8.700000</td>\n",
       "      <td>15.000000</td>\n",
       "      <td>6.430000e+08</td>\n",
       "      <td>2.500000e+08</td>\n",
       "      <td>15115.000000</td>\n",
       "      <td>7.000000</td>\n",
       "      <td>29.000000</td>\n",
       "      <td>3.262678e+07</td>\n",
       "      <td>370552.000000</td>\n",
       "      <td>13960.000000</td>\n",
       "      <td>38363.000000</td>\n",
       "      <td>3.103000e+07</td>\n",
       "    </tr>\n",
       "  </tbody>\n",
       "</table>\n",
       "</div>"
      ],
      "text/plain": [
       "              Year     Ratings       Genre         Gross        Budget  \\\n",
       "count   231.000000  231.000000  231.000000  2.310000e+02  2.310000e+02   \n",
       "mean   2014.294372    6.441558    5.359307  6.806603e+07  4.771861e+07   \n",
       "std       0.456750    0.988765    4.141611  8.890289e+07  5.425800e+07   \n",
       "min    2014.000000    3.100000    1.000000  2.470000e+03  7.000000e+04   \n",
       "25%    2014.000000    5.800000    1.000000  1.030000e+07  8.966390e+06   \n",
       "50%    2014.000000    6.500000    3.000000  3.740000e+07  2.800000e+07   \n",
       "75%    2015.000000    7.100000    8.000000  8.935000e+07  6.500000e+07   \n",
       "max    2015.000000    8.700000   15.000000  6.430000e+08  2.500000e+08   \n",
       "\n",
       "            Screens      Sequel   Sentiment         Views          Likes  \\\n",
       "count    229.000000  231.000000  231.000000  2.310000e+02     231.000000   \n",
       "mean    2262.152838    1.359307    2.809524  3.712851e+06   12732.536797   \n",
       "std     1686.182967    0.967241    6.996775  4.511104e+06   28825.484481   \n",
       "min        2.000000    1.000000  -38.000000  6.980000e+02       1.000000   \n",
       "25%      482.000000    1.000000    0.000000  6.233020e+05    1776.500000   \n",
       "50%     2776.000000    1.000000    0.000000  2.409338e+06    6096.000000   \n",
       "75%     3372.000000    1.000000    5.500000  5.217380e+06   15247.500000   \n",
       "max    15115.000000    7.000000   29.000000  3.262678e+07  370552.000000   \n",
       "\n",
       "           Dislikes      Comments  Aggregate Followers  \n",
       "count    231.000000    231.000000         1.960000e+02  \n",
       "mean     679.051948   1825.701299         3.038193e+06  \n",
       "std     1243.929481   3571.040447         4.886278e+06  \n",
       "min        0.000000      0.000000         1.066000e+03  \n",
       "25%      105.500000    248.500000         1.830250e+05  \n",
       "50%      341.000000    837.000000         1.052600e+06  \n",
       "75%      697.500000   2137.000000         3.694500e+06  \n",
       "max    13960.000000  38363.000000         3.103000e+07  "
      ]
     },
     "execution_count": 3,
     "metadata": {},
     "output_type": "execute_result"
    }
   ],
   "source": [
    "df.describe()"
   ]
  },
  {
   "cell_type": "code",
   "execution_count": 4,
   "metadata": {},
   "outputs": [],
   "source": [
    "df=df.drop([\"Movie\"],axis=1)"
   ]
  },
  {
   "cell_type": "code",
   "execution_count": 5,
   "metadata": {},
   "outputs": [],
   "source": [
    "Scr=df[\"Screens\"]\n",
    "df[\"Screens\"]=Scr.fillna(Scr.mean())\n",
    "Agg=df[\"Aggregate Followers\"]\n",
    "df[\"Aggregate Followers\"]=Agg.fillna(Agg.mean())"
   ]
  },
  {
   "cell_type": "code",
   "execution_count": 6,
   "metadata": {},
   "outputs": [],
   "source": [
    "from sklearn.preprocessing import LabelEncoder\n",
    "df = df.apply(LabelEncoder().fit_transform)"
   ]
  },
  {
   "cell_type": "code",
   "execution_count": 7,
   "metadata": {},
   "outputs": [
    {
     "name": "stdout",
     "output_type": "stream",
     "text": [
      "Year                     1.0\n",
      "Ratings                 13.0\n",
      "Genre                    6.0\n",
      "Gross                  108.0\n",
      "Budget                  43.5\n",
      "Screens                108.0\n",
      "Sequel                   0.0\n",
      "Sentiment                5.5\n",
      "Views                  115.0\n",
      "Likes                  114.0\n",
      "Dislikes               102.0\n",
      "Comments               109.0\n",
      "Aggregate Followers     82.0\n",
      "dtype: float64\n"
     ]
    }
   ],
   "source": [
    "Q1 = df.quantile(0.25)\n",
    "Q3 = df.quantile(0.75)\n",
    "IQR = Q3 - Q1\n",
    "print(IQR)"
   ]
  },
  {
   "cell_type": "code",
   "execution_count": 8,
   "metadata": {},
   "outputs": [
    {
     "data": {
      "text/plain": [
       "(175, 13)"
      ]
     },
     "execution_count": 8,
     "metadata": {},
     "output_type": "execute_result"
    }
   ],
   "source": [
    "df = df[~((df < (Q1 - 1.5 * IQR)) |(df > (Q3 + 1.5 * IQR))).any(axis=1)]\n",
    "df.shape"
   ]
  },
  {
   "cell_type": "code",
   "execution_count": 9,
   "metadata": {},
   "outputs": [],
   "source": [
    "label=df[\"Aggregate Followers\"]\n",
    "df=df.drop([\"Aggregate Followers\"],axis=1)"
   ]
  },
  {
   "cell_type": "code",
   "execution_count": 10,
   "metadata": {},
   "outputs": [
    {
     "data": {
      "text/plain": [
       "count    175.000000\n",
       "mean      98.320000\n",
       "std       50.608713\n",
       "min        0.000000\n",
       "25%       55.500000\n",
       "50%      110.000000\n",
       "75%      137.000000\n",
       "max      188.000000\n",
       "Name: Aggregate Followers, dtype: float64"
      ]
     },
     "execution_count": 10,
     "metadata": {},
     "output_type": "execute_result"
    }
   ],
   "source": [
    "label.describe()"
   ]
  },
  {
   "cell_type": "code",
   "execution_count": 11,
   "metadata": {},
   "outputs": [
    {
     "data": {
      "text/plain": [
       "<matplotlib.axes._subplots.AxesSubplot at 0x223e2366dd8>"
      ]
     },
     "execution_count": 11,
     "metadata": {},
     "output_type": "execute_result"
    }
   ],
   "source": [
    "df.boxplot()"
   ]
  },
  {
   "cell_type": "code",
   "execution_count": 12,
   "metadata": {
    "scrolled": true
   },
   "outputs": [
    {
     "name": "stderr",
     "output_type": "stream",
     "text": [
      "C:\\Users\\SAAD\\Anaconda3\\lib\\site-packages\\sklearn\\ensemble\\weight_boosting.py:29: DeprecationWarning: numpy.core.umath_tests is an internal NumPy module and should not be imported. It will be removed in a future NumPy release.\n",
      "  from numpy.core.umath_tests import inner1d\n"
     ]
    }
   ],
   "source": [
    "from sklearn import model_selection\n",
    "from sklearn.metrics import accuracy_score, log_loss\n",
    "\n",
    "from sklearn.neural_network import MLPClassifier\n",
    "from sklearn.neighbors import KNeighborsClassifier\n",
    "from sklearn.svm import SVC\n",
    "from sklearn.gaussian_process import GaussianProcessClassifier\n",
    "from sklearn.gaussian_process.kernels import RBF\n",
    "from sklearn.tree import DecisionTreeClassifier\n",
    "from sklearn.ensemble import RandomForestClassifier, AdaBoostClassifier, GradientBoostingClassifier\n",
    "from sklearn.naive_bayes import GaussianNB\n",
    "from sklearn.discriminant_analysis import QuadraticDiscriminantAnalysis\n",
    "\n",
    "from sklearn.metrics import classification_report\n",
    "\n",
    "from sklearn.discriminant_analysis import LinearDiscriminantAnalysis\n",
    "from sklearn.linear_model import LinearRegression"
   ]
  },
  {
   "cell_type": "code",
   "execution_count": 13,
   "metadata": {},
   "outputs": [],
   "source": [
    "from sklearn.model_selection import train_test_split\n",
    "X_train, X_test, y_train, y_test = train_test_split(df, label, test_size = 0.2, random_state = 14)"
   ]
  },
  {
   "cell_type": "code",
   "execution_count": 14,
   "metadata": {
    "scrolled": true
   },
   "outputs": [],
   "source": [
    "classifiers=[\n",
    "    KNeighborsClassifier(3),\n",
    "    SVC(kernel='rbf',C=0.25, probability=True),\n",
    "    DecisionTreeClassifier(),\n",
    "    RandomForestClassifier(),\n",
    "    AdaBoostClassifier(),\n",
    "    MLPClassifier(alpha=1),\n",
    "    GradientBoostingClassifier(),\n",
    "    GaussianNB(),\n",
    "    LinearDiscriminantAnalysis()]\n",
    "linearReg=LinearRegression()"
   ]
  },
  {
   "cell_type": "code",
   "execution_count": 15,
   "metadata": {},
   "outputs": [
    {
     "name": "stdout",
     "output_type": "stream",
     "text": [
      "==============================\n",
      "KNeighborsClassifier\n",
      "Predicted values\n",
      "[127 127  41 102 137  70   0  57 137  42  91  82  83  31  22  45   8  13\n",
      " 137  16  78  79 115  36  16   0 137  58 111   8  46  15 137   3  94]\n",
      "Accuracy: 2.8571%\n",
      "==============================\n",
      "SVC\n",
      "Predicted values\n",
      "[137 137 137 137 137 137 137 137 137 137 137 137 137 137 137 137 137 137\n",
      " 137 137 137 137 137 137 137 137 137 137 137 137 137 137 137 137 137]\n",
      "Accuracy: 20.0000%\n",
      "==============================\n",
      "DecisionTreeClassifier\n",
      "Predicted values\n",
      "[129  55  67 137 137 137   0 137  96  28 100 127  55  31 137  94 116  20\n",
      " 105 137   0 152 158 101 137  55  40 187  92 151  94  16 137 137  22]\n",
      "Accuracy: 8.5714%\n",
      "==============================\n",
      "RandomForestClassifier\n",
      "Predicted values\n",
      "[  0 132  97 105 182 137 137 137  46 137 100  82 125  31  71 137 116 137\n",
      "  20 137   0  41  12 101 137  21  32  58 137   8 137   7 137  18 137]\n",
      "Accuracy: 8.5714%\n",
      "==============================\n",
      "AdaBoostClassifier\n",
      "Predicted values\n",
      "[137 127 137 137 137 137 137 137 137 137 185 185 137 137 137 137 137 137\n",
      " 137 137 137 137 137 137 137 137 137 137 137 137 137 137 137 137 137]\n",
      "Accuracy: 17.1429%\n"
     ]
    },
    {
     "name": "stderr",
     "output_type": "stream",
     "text": [
      "C:\\Users\\SAAD\\Anaconda3\\lib\\site-packages\\sklearn\\neural_network\\multilayer_perceptron.py:564: ConvergenceWarning: Stochastic Optimizer: Maximum iterations (200) reached and the optimization hasn't converged yet.\n",
      "  % self.max_iter, ConvergenceWarning)\n"
     ]
    },
    {
     "name": "stdout",
     "output_type": "stream",
     "text": [
      "==============================\n",
      "MLPClassifier\n",
      "Predicted values\n",
      "[ 10   0  67 137 137 137 137 137 179  54 132 137 136 101  74 137 116  36\n",
      " 137  16  58  79 173 137 137 172  40 173 159   8 137  71 137  61 137]\n",
      "Accuracy: 14.2857%\n",
      "==============================\n",
      "GradientBoostingClassifier\n",
      "Predicted values\n",
      "[137  61 137 137 137 137 137 137 137 137  50 137 137 101  73  67 105 137\n",
      " 168  24 125  84  83 129  94 137 137  83  92 151 137 140  28   6 137]\n",
      "Accuracy: 8.5714%\n",
      "==============================\n",
      "GaussianNB\n",
      "Predicted values\n",
      "[137 137 137 137 137 137 137 137 137 137 137 137 137 137 137 137 137 137\n",
      " 137 137 137 137 137 137 137 137 137 137 137 137 137 137 137 137 137]\n",
      "Accuracy: 20.0000%\n",
      "==============================\n",
      "LinearDiscriminantAnalysis\n",
      "Predicted values\n",
      "[ 41  10   8 102 137  89 157 143 168  19 100  82  56 101  22 137 157 148\n",
      " 105  10 125  73 168  21   3 172 128 137  96 134   3   7  83   3 137]\n",
      "Accuracy: 0.0000%\n",
      "==============================\n"
     ]
    },
    {
     "name": "stderr",
     "output_type": "stream",
     "text": [
      "C:\\Users\\SAAD\\Anaconda3\\lib\\site-packages\\sklearn\\discriminant_analysis.py:388: UserWarning: Variables are collinear.\n",
      "  warnings.warn(\"Variables are collinear.\")\n"
     ]
    }
   ],
   "source": [
    "for clf in classifiers:\n",
    "    clf.fit(X_train, y_train)\n",
    "    name = clf.__class__.__name__\n",
    "    print(\"=\"*30)\n",
    "    print(name)\n",
    "    \n",
    "    print('Predicted values')\n",
    "    train_predictions = clf.predict(X_test)\n",
    "    print(train_predictions)\n",
    "    acc = accuracy_score(y_test, train_predictions)\n",
    "    print(\"Accuracy: {:.4%}\".format(acc))\n",
    "    \n",
    "print(\"=\"*30)"
   ]
  },
  {
   "cell_type": "code",
   "execution_count": null,
   "metadata": {},
   "outputs": [],
   "source": []
  }
 ],
 "metadata": {
  "kernelspec": {
   "display_name": "Python 3",
   "language": "python",
   "name": "python3"
  },
  "language_info": {
   "codemirror_mode": {
    "name": "ipython",
    "version": 3
   },
   "file_extension": ".py",
   "mimetype": "text/x-python",
   "name": "python",
   "nbconvert_exporter": "python",
   "pygments_lexer": "ipython3",
   "version": "3.7.0"
  }
 },
 "nbformat": 4,
 "nbformat_minor": 2
}
